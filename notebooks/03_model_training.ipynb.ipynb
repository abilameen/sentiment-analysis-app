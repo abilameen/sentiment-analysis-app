{
 "cells": [
  {
   "cell_type": "code",
   "execution_count": 1,
   "id": "9502c580-347e-41ab-ace3-cc0d9e339fd6",
   "metadata": {},
   "outputs": [
    {
     "name": "stdout",
     "output_type": "stream",
     "text": [
      "📊 Loaded 50000 processed reviews\n"
     ]
    }
   ],
   "source": [
    "import pandas as pd\n",
    "import numpy as np\n",
    "import time\n",
    "import matplotlib.pyplot as plt\n",
    "import seaborn as sns\n",
    "import joblib\n",
    "import json\n",
    "\n",
    "from sklearn.feature_extraction.text import TfidfVectorizer\n",
    "from sklearn.model_selection import train_test_split\n",
    "from sklearn.model_selection import cross_val_score\n",
    "from sklearn.linear_model import LogisticRegression\n",
    "from sklearn.naive_bayes import MultinomialNB\n",
    "from sklearn.ensemble import RandomForestClassifier\n",
    "from sklearn.svm import LinearSVC\n",
    "from sklearn.calibration import CalibratedClassifierCV\n",
    "from sklearn.metrics import accuracy_score, classification_report, confusion_matrix\n",
    "\n",
    "\n",
    "# Load processed data\n",
    "df = pd.read_csv(r'C:\\Users\\admin\\Desktop\\data\\raw\\processed\\processed_reviews.csv')\n",
    "print(f\"📊 Loaded {len(df)} processed reviews\")"
   ]
  },
  {
   "cell_type": "code",
   "execution_count": 2,
   "id": "124d1382-1ceb-4787-915d-dc69c53a2afd",
   "metadata": {},
   "outputs": [
    {
     "name": "stdout",
     "output_type": "stream",
     "text": [
      "📈 Training set size: 40000\n",
      "📉 Test set size: 10000\n",
      "\n",
      "🔄 Creating TF-IDF features...\n",
      "✅ Feature matrix shape: (40000, 3000)\n",
      "📝 Feature names sample: ['abandoned' 'ability' 'able' 'absolute' 'absolutely' 'absurd' 'abuse'\n",
      " 'academy' 'academy award' 'accent']\n"
     ]
    }
   ],
   "source": [
    "# Prepare features and labels\n",
    "X = df['processed_review']\n",
    "y = df['sentiment']\n",
    "\n",
    "# Split the data\n",
    "X_train, X_test, y_train, y_test = train_test_split(X, y, test_size=0.2,random_state=42, stratify=y)\n",
    "\n",
    "print(f\"📈 Training set size: {len(X_train)}\")\n",
    "print(f\"📉 Test set size: {len(X_test)}\")\n",
    "\n",
    "# Feature extraction with TF-IDF\n",
    "print(\"\\n🔄 Creating TF-IDF features...\")\n",
    "tfidf = TfidfVectorizer(max_features=3000, ngram_range=(1, 2), min_df=2,max_df=0.95)\n",
    "X_train_tfidf = tfidf.fit_transform(X_train)\n",
    "X_test_tfidf = tfidf.transform(X_test)\n",
    "\n",
    "print(f\"✅ Feature matrix shape: {X_train_tfidf.shape}\")\n",
    "print(f\"📝 Feature names sample: {tfidf.get_feature_names_out()[:10]}\")"
   ]
  },
  {
   "cell_type": "code",
   "execution_count": 3,
   "id": "38fe4d00-75b5-4e7c-91ab-66107dfd91a2",
   "metadata": {},
   "outputs": [],
   "source": [
    "all_results = []\n",
    "trained_models = {}"
   ]
  },
  {
   "cell_type": "code",
   "execution_count": 4,
   "id": "6c11b803-a826-4979-8135-c995ef22aedc",
   "metadata": {},
   "outputs": [
    {
     "name": "stdout",
     "output_type": "stream",
     "text": [
      "⏱ Logistic Regression training took 0.20 sec\n",
      "🎯 Accuracy: 0.8836\n",
      "              precision    recall  f1-score   support\n",
      "\n",
      "    negative       0.89      0.87      0.88      5000\n",
      "    positive       0.88      0.89      0.88      5000\n",
      "\n",
      "    accuracy                           0.88     10000\n",
      "   macro avg       0.88      0.88      0.88     10000\n",
      "weighted avg       0.88      0.88      0.88     10000\n",
      "\n",
      "📊 CV Mean: 0.8797 (±0.0049)\n"
     ]
    }
   ],
   "source": [
    "start = time.time()\n",
    "log_reg = LogisticRegression(max_iter=1000, random_state=42)\n",
    "log_reg.fit(X_train_tfidf, y_train)\n",
    "train_time = time.time() - start\n",
    "\n",
    "y_pred = log_reg.predict(X_test_tfidf)\n",
    "acc = accuracy_score(y_test, y_pred)\n",
    "print(f\"⏱ Logistic Regression training took {train_time:.2f} sec\")\n",
    "print(\"🎯 Accuracy:\", accuracy_score(y_test, y_pred))\n",
    "print(classification_report(y_test, y_pred))\n",
    "\n",
    "# Cross-validation on training set\n",
    "cv_scores = cross_val_score(log_reg, X_train_tfidf, y_train, cv=5, scoring='accuracy')\n",
    "print(f\"📊 CV Mean: {cv_scores.mean():.4f} (±{cv_scores.std():.4f})\")\n",
    "\n",
    "\n",
    "# store results\n",
    "all_results.append({\n",
    "    \"Model\": \"Logistic Regression\",\n",
    "    \"Test Accuracy\": round(acc, 4),\n",
    "    \"CV Mean\": round(cv_scores.mean(), 4),\n",
    "    \"CV Std\": round(cv_scores.std(), 4),\n",
    "    \"Train Time (s)\": round(train_time, 2)\n",
    "})\n",
    "\n",
    "# store trained models\n",
    "trained_models[\"Logistic Regression\"] = log_reg"
   ]
  },
  {
   "cell_type": "code",
   "execution_count": 5,
   "id": "fb155373-96ec-4e6e-9797-4f51ec74889b",
   "metadata": {},
   "outputs": [
    {
     "name": "stdout",
     "output_type": "stream",
     "text": [
      "⏱ Naive Bayes training took 0.05 sec\n",
      "🎯 Test Accuracy: 0.8513\n",
      "              precision    recall  f1-score   support\n",
      "\n",
      "    negative       0.86      0.83      0.85      5000\n",
      "    positive       0.84      0.87      0.85      5000\n",
      "\n",
      "    accuracy                           0.85     10000\n",
      "   macro avg       0.85      0.85      0.85     10000\n",
      "weighted avg       0.85      0.85      0.85     10000\n",
      "\n",
      "📊 CV Mean: 0.8499 (±0.0032)\n"
     ]
    }
   ],
   "source": [
    "start = time.time()\n",
    "nb = MultinomialNB()\n",
    "nb.fit(X_train_tfidf, y_train)\n",
    "train_time = time.time() - start\n",
    "\n",
    "y_pred = nb.predict(X_test_tfidf)\n",
    "acc = accuracy_score(y_test, y_pred)\n",
    "print(f\"⏱ Naive Bayes training took {train_time:.2f} sec\")\n",
    "print(\"🎯 Test Accuracy:\", accuracy_score(y_test, y_pred))\n",
    "print(classification_report(y_test, y_pred))\n",
    "\n",
    "cv_scores = cross_val_score(nb, X_train_tfidf, y_train, cv=5, scoring='accuracy')\n",
    "print(f\"📊 CV Mean: {cv_scores.mean():.4f} (±{cv_scores.std():.4f})\")\n",
    "\n",
    "# store results\n",
    "all_results.append({\n",
    "    \"Model\": \"Naive Bayes\",\n",
    "    \"Test Accuracy\": round(acc, 4),\n",
    "    \"CV Mean\": round(cv_scores.mean(), 4),\n",
    "    \"CV Std\": round(cv_scores.std(), 4),\n",
    "    \"Train Time (s)\": round(train_time, 2)\n",
    "})\n",
    "\n",
    "# store trained models\n",
    "trained_models[\"Naive Bayes\"] = nb\n"
   ]
  },
  {
   "cell_type": "code",
   "execution_count": 6,
   "id": "a70ba787-3c97-4791-827a-d4f009907aa8",
   "metadata": {},
   "outputs": [
    {
     "name": "stderr",
     "output_type": "stream",
     "text": [
      "[Parallel(n_jobs=-1)]: Using backend ThreadingBackend with 16 concurrent workers.\n",
      "[Parallel(n_jobs=-1)]: Done  18 tasks      | elapsed:    3.0s\n",
      "[Parallel(n_jobs=-1)]: Done 168 tasks      | elapsed:   18.3s\n",
      "[Parallel(n_jobs=-1)]: Done 200 out of 200 | elapsed:   21.2s finished\n",
      "[Parallel(n_jobs=16)]: Using backend ThreadingBackend with 16 concurrent workers.\n",
      "[Parallel(n_jobs=16)]: Done  18 tasks      | elapsed:    0.0s\n",
      "[Parallel(n_jobs=16)]: Done 168 tasks      | elapsed:    0.0s\n",
      "[Parallel(n_jobs=16)]: Done 200 out of 200 | elapsed:    0.0s finished\n"
     ]
    },
    {
     "name": "stdout",
     "output_type": "stream",
     "text": [
      "⏱ Random Forest training took 0.36 min\n",
      "🎯 Test Accuracy: 0.8497\n",
      "              precision    recall  f1-score   support\n",
      "\n",
      "    negative       0.85      0.85      0.85      5000\n",
      "    positive       0.85      0.85      0.85      5000\n",
      "\n",
      "    accuracy                           0.85     10000\n",
      "   macro avg       0.85      0.85      0.85     10000\n",
      "weighted avg       0.85      0.85      0.85     10000\n",
      "\n",
      "📊 CV Mean: 0.8451 (±0.0025)\n"
     ]
    }
   ],
   "source": [
    "start = time.time()\n",
    "rf = RandomForestClassifier(\n",
    "    n_estimators=200, max_depth=None, n_jobs=-1,\n",
    "    random_state=42, verbose=1\n",
    ")\n",
    "rf.fit(X_train_tfidf, y_train)\n",
    "train_time = time.time() - start\n",
    "\n",
    "y_pred = rf.predict(X_test_tfidf)\n",
    "acc = accuracy_score(y_test, y_pred)\n",
    "print(f\"⏱ Random Forest training took {train_time/60:.2f} min\")\n",
    "print(\"🎯 Test Accuracy:\", accuracy_score(y_test, y_pred))\n",
    "print(classification_report(y_test, y_pred))\n",
    "\n",
    "cv_scores = cross_val_score(rf, X_train_tfidf, y_train, cv=3, scoring='accuracy', n_jobs=-1)\n",
    "print(f\"📊 CV Mean: {cv_scores.mean():.4f} (±{cv_scores.std():.4f})\")\n",
    "\n",
    "# store results\n",
    "all_results.append({\n",
    "    \"Model\": \"Random Forest\",\n",
    "    \"Test Accuracy\": round(acc, 4),\n",
    "    \"CV Mean\": round(cv_scores.mean(), 4),\n",
    "    \"CV Std\": round(cv_scores.std(), 4),\n",
    "    \"Train Time (s)\": round(train_time, 2)\n",
    "})\n",
    "\n",
    "# store trained models\n",
    "trained_models[\"Random Forest\"] = rf\n",
    "\n"
   ]
  },
  {
   "cell_type": "code",
   "execution_count": 7,
   "id": "d5653192-2526-4989-8f92-a81ef54ee311",
   "metadata": {},
   "outputs": [
    {
     "name": "stdout",
     "output_type": "stream",
     "text": [
      "⏱ Linear SVM training took 0.04 min\n",
      "🎯 Test Accuracy: 0.8772\n",
      "              precision    recall  f1-score   support\n",
      "\n",
      "    negative       0.88      0.87      0.88      5000\n",
      "    positive       0.87      0.88      0.88      5000\n",
      "\n",
      "    accuracy                           0.88     10000\n",
      "   macro avg       0.88      0.88      0.88     10000\n",
      "weighted avg       0.88      0.88      0.88     10000\n",
      "\n",
      "📊 CV Mean: 0.8731 (±0.0011)\n"
     ]
    }
   ],
   "source": [
    "start = time.time()\n",
    "svm = CalibratedClassifierCV(\n",
    "    estimator=LinearSVC(random_state=42, max_iter=3000),\n",
    "    cv=5,\n",
    "    n_jobs=-1\n",
    ")\n",
    "svm.fit(X_train_tfidf, y_train)\n",
    "train_time = time.time() - start\n",
    "\n",
    "y_pred = svm.predict(X_test_tfidf)\n",
    "print(f\"⏱ Linear SVM training took {train_time/60:.2f} min\")\n",
    "print(\"🎯 Test Accuracy:\", accuracy_score(y_test, y_pred))\n",
    "print(classification_report(y_test, y_pred))\n",
    "\n",
    "cv_scores = cross_val_score(svm, X_train_tfidf, y_train, cv=3, scoring='accuracy', n_jobs=-1)\n",
    "print(f\"📊 CV Mean: {cv_scores.mean():.4f} (±{cv_scores.std():.4f})\")\n",
    "\n",
    "\n",
    "# store results\n",
    "all_results.append({\n",
    "    \"Model\": \"Linear SVM\",\n",
    "    \"Test Accuracy\": round(acc, 4),\n",
    "    \"CV Mean\": round(cv_scores.mean(), 4),\n",
    "    \"CV Std\": round(cv_scores.std(), 4),\n",
    "    \"Train Time (s)\": round(train_time, 2)\n",
    "})\n",
    "# store trained models\n",
    "trained_models[\"Linear SVM\"] = svm\n",
    "\n"
   ]
  },
  {
   "cell_type": "code",
   "execution_count": 11,
   "id": "708f3cb8-43b3-4225-b8f3-3de138be10a7",
   "metadata": {},
   "outputs": [
    {
     "name": "stdout",
     "output_type": "stream",
     "text": [
      "📊 Model Comparison Summary\n"
     ]
    },
    {
     "data": {
      "text/html": [
       "<div>\n",
       "<style scoped>\n",
       "    .dataframe tbody tr th:only-of-type {\n",
       "        vertical-align: middle;\n",
       "    }\n",
       "\n",
       "    .dataframe tbody tr th {\n",
       "        vertical-align: top;\n",
       "    }\n",
       "\n",
       "    .dataframe thead th {\n",
       "        text-align: right;\n",
       "    }\n",
       "</style>\n",
       "<table border=\"1\" class=\"dataframe\">\n",
       "  <thead>\n",
       "    <tr style=\"text-align: right;\">\n",
       "      <th></th>\n",
       "      <th>Test Accuracy</th>\n",
       "      <th>CV Mean</th>\n",
       "      <th>CV Std</th>\n",
       "      <th>Train Time (s)</th>\n",
       "    </tr>\n",
       "    <tr>\n",
       "      <th>Model</th>\n",
       "      <th></th>\n",
       "      <th></th>\n",
       "      <th></th>\n",
       "      <th></th>\n",
       "    </tr>\n",
       "  </thead>\n",
       "  <tbody>\n",
       "    <tr>\n",
       "      <th>Logistic Regression</th>\n",
       "      <td>0.8836</td>\n",
       "      <td>0.8797</td>\n",
       "      <td>0.0049</td>\n",
       "      <td>0.20</td>\n",
       "    </tr>\n",
       "    <tr>\n",
       "      <th>Naive Bayes</th>\n",
       "      <td>0.8513</td>\n",
       "      <td>0.8499</td>\n",
       "      <td>0.0032</td>\n",
       "      <td>0.05</td>\n",
       "    </tr>\n",
       "    <tr>\n",
       "      <th>Random Forest</th>\n",
       "      <td>0.8497</td>\n",
       "      <td>0.8451</td>\n",
       "      <td>0.0025</td>\n",
       "      <td>21.44</td>\n",
       "    </tr>\n",
       "    <tr>\n",
       "      <th>Linear SVM</th>\n",
       "      <td>0.8497</td>\n",
       "      <td>0.8731</td>\n",
       "      <td>0.0011</td>\n",
       "      <td>2.54</td>\n",
       "    </tr>\n",
       "  </tbody>\n",
       "</table>\n",
       "</div>"
      ],
      "text/plain": [
       "                     Test Accuracy  CV Mean  CV Std  Train Time (s)\n",
       "Model                                                              \n",
       "Logistic Regression         0.8836   0.8797  0.0049            0.20\n",
       "Naive Bayes                 0.8513   0.8499  0.0032            0.05\n",
       "Random Forest               0.8497   0.8451  0.0025           21.44\n",
       "Linear SVM                  0.8497   0.8731  0.0011            2.54"
      ]
     },
     "metadata": {},
     "output_type": "display_data"
    }
   ],
   "source": [
    "results_df = pd.DataFrame(all_results).sort_values(by=\"Test Accuracy\", ascending=False).drop_duplicates(subset=[\"Model\"]).set_index(\"Model\")\n",
    "\n",
    "print(\"📊 Model Comparison Summary\")\n",
    "display(results_df)"
   ]
  },
  {
   "cell_type": "code",
   "execution_count": 14,
   "id": "45e6a281-8b55-465f-b005-e36a41feb92c",
   "metadata": {},
   "outputs": [
    {
     "name": "stdout",
     "output_type": "stream",
     "text": [
      "🏆 Best Model: Logistic Regression\n",
      "🎯 Test Accuracy: 0.8836\n",
      "\n",
      "📊 Detailed Classification Report:\n",
      "              precision    recall  f1-score   support\n",
      "\n",
      "    negative       0.89      0.87      0.88      5000\n",
      "    positive       0.88      0.89      0.88      5000\n",
      "\n",
      "    accuracy                           0.88     10000\n",
      "   macro avg       0.88      0.88      0.88     10000\n",
      "weighted avg       0.88      0.88      0.88     10000\n",
      "\n"
     ]
    },
    {
     "data": {
      "image/png": "[encoded data removed]",
      "text/plain": [
       "<Figure size 800x600 with 2 Axes>"
      ]
     },
     "metadata": {},
     "output_type": "display_data"
    },
    {
     "name": "stdout",
     "output_type": "stream",
     "text": [
      "\n",
      "📈 Top 10 Positive Sentiment Features:\n",
      " excellent: 6.6513\n",
      " great: 6.4907\n",
      " perfect: 5.4664\n",
      " amazing: 4.9206\n",
      " hilarious: 4.4813\n",
      " loved: 4.4793\n",
      " wonderful: 4.4474\n",
      " favorite: 4.2195\n",
      " enjoyed: 4.0980\n",
      " one best: 4.0865\n",
      "\n",
      "📉 Top 10 Negative Sentiment Features:\n",
      " worst: -9.1144\n",
      " awful: -7.8009\n",
      " bad: -7.0815\n",
      " waste: -6.9986\n",
      " boring: -6.0984\n",
      " terrible: -5.6157\n",
      " poor: -5.5791\n",
      " poorly: -5.3804\n",
      " dull: -5.3361\n",
      " worse: -5.1138\n"
     ]
    }
   ],
   "source": [
    "# Select best model (highest test accuracy)\n",
    "best_model_name = results_df['Test Accuracy'].idxmax()\n",
    "best_model = trained_models[best_model_name]\n",
    "\n",
    "print(f\"🏆 Best Model: {best_model_name}\")\n",
    "print(f\"🎯 Test Accuracy: {results_df.loc[best_model_name, 'Test Accuracy']:.4f}\")\n",
    "\n",
    "# Detailed evaluation\n",
    "y_pred = best_model.predict(X_test_tfidf)\n",
    "y_pred_proba = best_model.predict_proba(X_test_tfidf)\n",
    "\n",
    "print(f\"\\n📊 Detailed Classification Report:\")\n",
    "print(classification_report(y_test, y_pred))\n",
    "\n",
    "# Confusion Matrix\n",
    "cm = confusion_matrix(y_test, y_pred)\n",
    "plt.figure(figsize=(8, 6))\n",
    "sns.heatmap(cm, annot=True, fmt='d', cmap='Blues',xticklabels=['Negative', 'Positive'],yticklabels=['Negative', 'Positive'])\n",
    "\n",
    "plt.title(f'Confusion Matrix - {best_model_name}')\n",
    "plt.xlabel('Predicted')\n",
    "plt.ylabel('Actual')\n",
    "plt.show()\n",
    "\n",
    "# Feature importance (for Logistic Regression)\n",
    "if best_model_name == 'Logistic Regression':\n",
    "    feature_names = tfidf.get_feature_names_out()\n",
    "    coefficients = best_model.coef_[0]\n",
    "\n",
    "    # Top positive features\n",
    "    top_positive = np.argsort(coefficients)[-10:]\n",
    "    # Top negative features\n",
    "    top_negative = np.argsort(coefficients)[:10]\n",
    "\n",
    "    print(\"\\n📈 Top 10 Positive Sentiment Features:\")\n",
    "    for i in reversed(top_positive):\n",
    "        print(f\" {feature_names[i]}: {coefficients[i]:.4f}\")\n",
    "    print(\"\\n📉 Top 10 Negative Sentiment Features:\")\n",
    "    for i in top_negative:\n",
    "        print(f\" {feature_names[i]}: {coefficients[i]:.4f}\")    "
   ]
  },
  {
   "cell_type": "code",
   "execution_count": 22,
   "id": "348b845e-cb2a-4e01-a9b3-f60d15d9e9a9",
   "metadata": {},
   "outputs": [
    {
     "name": "stdout",
     "output_type": "stream",
     "text": [
      "💾 Model saved:../models/best_sentiment_model_logistic_regression.pkl\n",
      "💾 Vectorizer saved: ../models/tfidf_vectorizer.pkl\n",
      "📋 Model info saved successfully!\n"
     ]
    }
   ],
   "source": [
    "# Save the best model and vectorizer\n",
    "joblib.dump(best_model,rf'C:\\Users\\admin\\Desktop\\data\\models\\best_sentiment_model_{best_model_name.lower().replace(\" \",\"_\")}.pkl')\n",
    "joblib.dump(tfidf, r'C:\\Users\\admin\\Desktop\\data\\models\\tfidf_vectorizer.pkl')\n",
    "\n",
    "print(f\"💾 Model saved:../models/best_sentiment_model_{best_model_name.lower().replace(' ','_')}.pkl\")\n",
    "print(f\"💾 Vectorizer saved: ../models/tfidf_vectorizer.pkl\")\n",
    "\n",
    "# Create model info\n",
    "model_info = {\n",
    "    'model_type': best_model_name,\n",
    "    'test_accuracy': results_df.loc[best_model_name, 'Test Accuracy'],\n",
    "    'cv_mean': results_df.loc[best_model_name, 'CV Mean'],\n",
    "    'cv_std': results_df.loc[best_model_name, 'CV Std'],\n",
    "    'features': X_train_tfidf.shape[1],\n",
    "    'train_time': results_df.loc[best_model_name, 'Train Time (s)']\n",
    "}\n",
    "\n",
    "\n",
    "with open(r'C:\\Users\\admin\\Desktop\\data\\models\\model_info.json', 'w') as f:\n",
    "    json.dump(model_info, f, indent=2)\n",
    "\n",
    "print(\"📋 Model info saved successfully!\")\n"
   ]
  }
 ],
 "metadata": {
  "kernelspec": {
   "display_name": "Python 3 (ipykernel)",
   "language": "python",
   "name": "python3"
  },
  "language_info": {
   "codemirror_mode": {
    "name": "ipython",
    "version": 3
   },
   "file_extension": ".py",
   "mimetype": "text/x-python",
   "name": "python",
   "nbconvert_exporter": "python",
   "pygments_lexer": "ipython3",
   "version": "3.13.5"
  }
 },
 "nbformat": 4,
 "nbformat_minor": 5
}
